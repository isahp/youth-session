{
 "cells": [
  {
   "cell_type": "markdown",
   "metadata": {},
   "source": [
    "# Tutorial on looping and matrices\n",
    "This tutorial guides you through the basics of creating matrices and using loops in python to do basic operations on matrices."
   ]
  },
  {
   "cell_type": "markdown",
   "metadata": {},
   "source": [
    "## 1. Import the needed libraries"
   ]
  },
  {
   "cell_type": "code",
   "execution_count": 1,
   "metadata": {
    "collapsed": true
   },
   "outputs": [],
   "source": [
    "import numpy as np"
   ]
  },
  {
   "cell_type": "markdown",
   "metadata": {},
   "source": [
    "## 2. Start with vectors\n",
    "Vectors are just one dimensional matrices.  In programming we call them arrays.  Here are some examples"
   ]
  },
  {
   "cell_type": "code",
   "execution_count": 2,
   "metadata": {
    "collapsed": false
   },
   "outputs": [
    {
     "name": "stdout",
     "output_type": "stream",
     "text": [
      "[1 3 5]\n",
      "[-1  0  1]\n",
      "[  10.          100.            0.16666667   17.6       ]\n"
     ]
    }
   ],
   "source": [
    "vect1 = np.array([1, 3, 5])\n",
    "vect2 = np.array([-1, 0, 1])\n",
    "vect3 = np.array([10, 100, 1/6., 17.6])\n",
    "print(vect1)\n",
    "print(vect2)\n",
    "print(vect3)"
   ]
  },
  {
   "cell_type": "markdown",
   "metadata": {
    "collapsed": true
   },
   "source": [
    "As you can see, a __vector__ is simply a list of numbers."
   ]
  },
  {
   "cell_type": "markdown",
   "metadata": {},
   "source": [
    "### 2.1 Creating a vector programmatically\n",
    "Let's create the array [1, 4, 9, 25, 36, 49, 64, 81, 100, 121] via code.  This is the list of the squares of numbers from 1 to 11."
   ]
  },
  {
   "cell_type": "code",
   "execution_count": 3,
   "metadata": {
    "collapsed": false
   },
   "outputs": [
    {
     "data": {
      "text/plain": [
       "array([  1,   4,   9,  16,  25,  36,  49,  64,  81, 100, 121])"
      ]
     },
     "execution_count": 3,
     "metadata": {},
     "output_type": "execute_result"
    }
   ],
   "source": [
    "#Create an empty list\n",
    "squares = list()\n",
    "#Now append elements to it\n",
    "for i in range(1, 12):\n",
    "    squares.append(i*i)\n",
    "squares = np.array(squares)\n",
    "squares"
   ]
  },
  {
   "cell_type": "markdown",
   "metadata": {},
   "source": [
    "__NOTE__:  We created a _list_ first, and then created the numpy vector.  The reason for this is the numpy arrays are not designed to grow easily, but lists are.  Thus we created a list first, then created the numpy array."
   ]
  },
  {
   "cell_type": "markdown",
   "metadata": {},
   "source": [
    "### 2.2 Exercises\n",
    "1. Create a vector of the cubes of 1,2,3,...,100\n",
    "2. Create a vector of all 0's.\n",
    "3. Create a vector of all 1's."
   ]
  },
  {
   "cell_type": "markdown",
   "metadata": {},
   "source": [
    "### 2.3 Some vector arithmetic\n",
    "The numpy library already has code to do vector arithmetic in it, here are some examples, using previously defined vectors."
   ]
  },
  {
   "cell_type": "code",
   "execution_count": 4,
   "metadata": {
    "collapsed": false
   },
   "outputs": [
    {
     "name": "stdout",
     "output_type": "stream",
     "text": [
      "[0 3 6]\n",
      "[2 3 4]\n"
     ]
    }
   ],
   "source": [
    "print(vect1+vect2)\n",
    "print(vect1-vect2)"
   ]
  },
  {
   "cell_type": "markdown",
   "metadata": {},
   "source": [
    "However, we should see how to define these ourselves.  It will help us better understand the process of vector arithmetic."
   ]
  },
  {
   "cell_type": "code",
   "execution_count": 5,
   "metadata": {
    "collapsed": true
   },
   "outputs": [],
   "source": [
    "def vec_plus(v1, v2):\n",
    "    \"\"\"\n",
    "    Adds v1 to v2 and returns the result.  If the vectors do not have the same length, it throws and error\n",
    "    \"\"\"\n",
    "    if len(v1) != len(v2):\n",
    "        raise IndexError(\"v1 and v2 must have the same size\")\n",
    "    #Let's first get the length of these vectors, if we've made it here, they have the same length\n",
    "    size = len(v1)\n",
    "    #Create a new vector of this size that will be the result we return.  We start with all values zero\n",
    "    #knowing that we will fill it in eventually\n",
    "    rval = np.zeros(size)\n",
    "    #Now we need to loop over the size of these vectors, adding each individual entry\n",
    "    for position in range(0, size):\n",
    "        rval[position] = v1[position]+v2[position]\n",
    "    #That is it, we are done\n",
    "    return(rval)"
   ]
  },
  {
   "cell_type": "markdown",
   "metadata": {},
   "source": [
    "**Note:** vec_plus works on any types that have a length and size, let's try it on a few examples"
   ]
  },
  {
   "cell_type": "code",
   "execution_count": 6,
   "metadata": {
    "collapsed": false
   },
   "outputs": [
    {
     "name": "stdout",
     "output_type": "stream",
     "text": [
      "[ 0.  3.  6.]\n",
      "[ 3.  9.]\n"
     ]
    }
   ],
   "source": [
    "print(vec_plus(vect1, vect2))\n",
    "print(vec_plus([1,5], [2, 4]))"
   ]
  },
  {
   "cell_type": "markdown",
   "metadata": {},
   "source": [
    "We added two lists in the second example, and got a result (the second example did not have np.array's as the argument)"
   ]
  },
  {
   "cell_type": "markdown",
   "metadata": {},
   "source": [
    "### 2.4 Exercises\n",
    "1. Create a vec_minus(v1,v2) function that subtracts one vector from another\n",
    "2. Write some examples using vec_minus.\n",
    "3. Create a vec_multiply(v1,v2) function that multiplies the entries in one vector by the entries in another.\n",
    "4. Write some examples using vec_multiply\n",
    "5. Create a vec_scalar(numb, v1) the first argument is a number, and the second argument is a vector.  This function should multiply each element of v1 by the number *numb*.  I.e. vec_scalar(3, [1, 4, -2]) should return [3, 12, -8]."
   ]
  },
  {
   "cell_type": "markdown",
   "metadata": {
    "collapsed": true
   },
   "source": [
    "## 3 Matrices\n",
    "A matrix is a two dimension array of numbers, created using the numpy.array() function.  Here are some example matrices created in various ways."
   ]
  },
  {
   "cell_type": "code",
   "execution_count": 11,
   "metadata": {
    "collapsed": false
   },
   "outputs": [
    {
     "name": "stdout",
     "output_type": "stream",
     "text": [
      "[[1 2]\n",
      " [3 4]]\n",
      "[[ 4  5]\n",
      " [10 11]]\n",
      "[[ 0.  0.  0.]\n",
      " [ 0.  0.  0.]]\n",
      "[[ 1.  0.  0.]\n",
      " [ 0.  1.  0.]\n",
      " [ 0.  0.  1.]]\n"
     ]
    }
   ],
   "source": [
    "mat1 = np.array([[1,2], [3,4]])\n",
    "mat2 = np.array([[4,5], [10,11]])\n",
    "#Create a matrix of zeros, 2 x 3 (2 rows by 3 cols)\n",
    "mat3 = np.zeros([2,3])\n",
    "#Create the matrix multiplication identity matrix of size 4 (4 x 4 matrix, 1's on the diagonal, zeros elsewhere)\n",
    "mat4 = np.identity(3)\n",
    "print(mat1)\n",
    "print(mat2)\n",
    "print(mat3)\n",
    "print(mat4)"
   ]
  },
  {
   "cell_type": "markdown",
   "metadata": {},
   "source": [
    "## 3.1 Matrix addition/subtraction\n",
    "Matrix addition and subtraction happens entry by entry, but *the matrices must be the same size*"
   ]
  },
  {
   "cell_type": "code",
   "execution_count": 12,
   "metadata": {
    "collapsed": false
   },
   "outputs": [
    {
     "name": "stdout",
     "output_type": "stream",
     "text": [
      "[[ 5  7]\n",
      " [13 15]]\n"
     ]
    }
   ],
   "source": [
    "print(mat1+mat2)"
   ]
  },
  {
   "cell_type": "markdown",
   "metadata": {},
   "source": [
    "However, to help us understand working with matrices, let's define addition ourselves"
   ]
  },
  {
   "cell_type": "code",
   "execution_count": 21,
   "metadata": {
    "collapsed": false
   },
   "outputs": [],
   "source": [
    "def mat_add(m1, m2):\n",
    "    #Make sure they are the same size\n",
    "    if m1.shape != m2.shape:\n",
    "        raise IndexError(\"Matrices not the same size\")\n",
    "    (numbRows, numbCols) = m1.shape\n",
    "    #Create the new matrix, start off with all zero entries\n",
    "    #Recall that m1.shape, for a matrix, returns a list of 2 items [numbRows, numbCols]\n",
    "    #and that np.zeros([numbRows, numbCols]) creates a new matrix with that size\n",
    "    rval = np.zeros(m1.shape)\n",
    "    #Now we need to loop over each row, then each element in the row and do the addition\n",
    "    for row in range(numbRows):\n",
    "        for col in range(numbCols):\n",
    "            rval[row,col] = m1[row,col]+m2[row,col]\n",
    "    return(rval)"
   ]
  },
  {
   "cell_type": "markdown",
   "metadata": {},
   "source": [
    "Let's try it with mat1 and mat2, this should match the result a few cells above"
   ]
  },
  {
   "cell_type": "code",
   "execution_count": 23,
   "metadata": {
    "collapsed": false
   },
   "outputs": [
    {
     "name": "stdout",
     "output_type": "stream",
     "text": [
      "[[  5.   7.]\n",
      " [ 13.  15.]]\n"
     ]
    }
   ],
   "source": [
    "print(mat_add(mat1, mat2))"
   ]
  },
  {
   "cell_type": "markdown",
   "metadata": {},
   "source": [
    "## 3.2 Exercises\n",
    "1. Create mat_subtract(m1, m2) that computes m1 - m2.\n",
    "2. Create mat_entry_mult(m1, m2) that multiplies the entries in m1 by the entries in m2 (just like addition, except replace addition by multiplication.  This operation is called Hadamard multiplication.\n",
    "3. Create mat_add_scalar(m1, numb) that adds numb to each entry of m1\n",
    "4. Create mat_mult_scalar(m1, numb) that multiplies each entry of m1 by numb.  This operation is called scalar multipication."
   ]
  },
  {
   "cell_type": "code",
   "execution_count": null,
   "metadata": {
    "collapsed": true
   },
   "outputs": [],
   "source": []
  }
 ],
 "metadata": {
  "kernelspec": {
   "display_name": "Python 3",
   "language": "python",
   "name": "python3"
  },
  "language_info": {
   "codemirror_mode": {
    "name": "ipython",
    "version": 3
   },
   "file_extension": ".py",
   "mimetype": "text/x-python",
   "name": "python",
   "nbconvert_exporter": "python",
   "pygments_lexer": "ipython3",
   "version": "3.5.1"
  }
 },
 "nbformat": 4,
 "nbformat_minor": 0
}
