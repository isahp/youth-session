{
 "cells": [
  {
   "cell_type": "code",
   "execution_count": 1,
   "metadata": {
    "collapsed": true
   },
   "outputs": [],
   "source": [
    "import numpy as np"
   ]
  },
  {
   "cell_type": "code",
   "execution_count": 6,
   "metadata": {
    "collapsed": false,
    "scrolled": true
   },
   "outputs": [
    {
     "data": {
      "text/plain": [
       "array([     1,      8,     27,     64,    125,    216,    343,    512,\n",
       "          729,   1000,   1331,   1728,   2197,   2744,   3375,   4096,\n",
       "         4913,   5832,   6859,   8000,   9261,  10648,  12167,  13824,\n",
       "        15625,  17576,  19683,  21952,  24389,  27000,  29791,  32768,\n",
       "        35937,  39304,  42875,  46656,  50653,  54872,  59319,  64000,\n",
       "        68921,  74088,  79507,  85184,  91125,  97336, 103823, 110592,\n",
       "       117649, 125000, 132651, 140608, 148877, 157464, 166375, 175616,\n",
       "       185193, 195112, 205379, 216000, 226981, 238328, 250047, 262144,\n",
       "       274625, 287496, 300763, 314432, 328509, 343000, 357911, 373248,\n",
       "       389017, 405224, 421875, 438976, 456533, 474552, 493039, 512000,\n",
       "       531441, 551368, 571787, 592704, 614125, 636056, 658503, 681472,\n",
       "       704969, 729000, 753571, 778688, 804357, 830584, 857375, 884736,\n",
       "       912673, 941192, 970299])"
      ]
     },
     "execution_count": 6,
     "metadata": {},
     "output_type": "execute_result"
    }
   ],
   "source": [
    "squares = list()\n",
    "#Here i am creating the list we will be using for the rest of this function\n",
    "for i in range(1,100): #Here i am saying that it will run what is in this loop 100 times one time with 1 again 2 again 3 ... ect\n",
    "    squares.append(i**3) #Here we get the cube of i\n",
    "squares = np.array(squares) #Here we add all the numbers we generated to squares\n",
    "squares #And here we print it out"
   ]
  },
  {
   "cell_type": "code",
   "execution_count": null,
   "metadata": {
    "collapsed": true
   },
   "outputs": [],
   "source": []
  }
 ],
 "metadata": {
  "kernelspec": {
   "display_name": "Python 2",
   "language": "python",
   "name": "python2"
  },
  "language_info": {
   "codemirror_mode": {
    "name": "ipython",
    "version": 2
   },
   "file_extension": ".py",
   "mimetype": "text/x-python",
   "name": "python",
   "nbconvert_exporter": "python",
   "pygments_lexer": "ipython2",
   "version": "2.7.11"
  }
 },
 "nbformat": 4,
 "nbformat_minor": 0
}
