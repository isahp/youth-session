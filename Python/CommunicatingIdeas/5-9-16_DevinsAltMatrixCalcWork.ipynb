{
 "cells": [
  {
   "cell_type": "markdown",
   "metadata": {},
   "source": [
    "# Some Ideas About The New Priority Calculation\n",
    "Essentially it takes the geometric average of the columns of the pairwise matrix.  Let's start with something a bit easier first...."
   ]
  },
  {
   "cell_type": "code",
   "execution_count": 1,
   "metadata": {
    "collapsed": true
   },
   "outputs": [],
   "source": [
    "import numpy as np"
   ]
  },
  {
   "cell_type": "code",
   "execution_count": 4,
   "metadata": {
    "collapsed": true
   },
   "outputs": [],
   "source": [
    "def sum_columns(mat):\n",
    "    \"\"\"\n",
    "    This is a function that simply sums the values across the columns of a matrix.\n",
    "    \"\"\"\n",
    "    #First get the number of rows and columns\n",
    "    nrows = mat.shape[0]\n",
    "    ncols = mat.shape[1]\n",
    "    #The result will be an nrows x 1 col matrix.  In other words, we can just think of it\n",
    "    #as a matrix of shape [nrows] (i.e. it has nrow entries, like a simple list)\n",
    "    #So we create that matrix, with zeros in all of the entries\n",
    "    rval = np.zeros([nrows])\n",
    "    \n",
    "    #Now we loop over each row\n",
    "    for rowIndex in range(nrows):\n",
    "        #For each row, we sum up the values across the columns\n",
    "        #Start with zero, then add each value\n",
    "        rval[rowIndex] = 0\n",
    "        for colIndex in range(ncols):\n",
    "            rval[rowIndex] = rval[rowIndex] + mat[rowIndex, colIndex]\n",
    "        #That is it, we are done\n",
    "    return(rval)\n",
    "    "
   ]
  },
  {
   "cell_type": "code",
   "execution_count": 5,
   "metadata": {
    "collapsed": false
   },
   "outputs": [
    {
     "data": {
      "text/plain": [
       "array([ 3. ,  1.5])"
      ]
     },
     "execution_count": 5,
     "metadata": {},
     "output_type": "execute_result"
    }
   ],
   "source": [
    "mat = np.array([[1, 2], [0.5, 1]])\n",
    "sum_columns(mat)"
   ]
  },
  {
   "cell_type": "code",
   "execution_count": null,
   "metadata": {
    "collapsed": true
   },
   "outputs": [],
   "source": []
  }
 ],
 "metadata": {
  "hide_input": false,
  "kernelspec": {
   "display_name": "Python 2",
   "language": "python",
   "name": "python2"
  },
  "language_info": {
   "codemirror_mode": {
    "name": "ipython",
    "version": 2
   },
   "file_extension": ".py",
   "mimetype": "text/x-python",
   "name": "python",
   "nbconvert_exporter": "python",
   "pygments_lexer": "ipython2",
   "version": "2.7.11"
  }
 },
 "nbformat": 4,
 "nbformat_minor": 0
}
